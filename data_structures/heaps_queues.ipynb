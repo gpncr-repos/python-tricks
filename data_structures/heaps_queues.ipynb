{
 "cells": [
  {
   "cell_type": "markdown",
   "metadata": {},
   "source": [
    "<h1>QUEUE</h1>"
   ]
  },
  {
   "cell_type": "code",
   "execution_count": 3,
   "metadata": {},
   "outputs": [],
   "source": [
    "from abc import ABC, abstractmethod\n",
    "from dataclasses import dataclass\n",
    "from faker import Faker\n",
    "from typing import Any, Optional\n",
    "\n",
    "fake = Faker('ru_RU')"
   ]
  },
  {
   "cell_type": "code",
   "execution_count": 4,
   "metadata": {},
   "outputs": [],
   "source": [
    "class Queue(ABC):\n",
    "    \"\"\"Интерфейс очереди\"\"\"\n",
    "    \n",
    "    @property\n",
    "    @abstractmethod\n",
    "    def capacity(self):\n",
    "        \"\"\"Свойство очереди - максимальная вместительность\"\"\"\n",
    "    \n",
    "    @abstractmethod\n",
    "    def dequeue(self, *args, **kwargs):\n",
    "        \"\"\"Метод исключает элемент в очередь\"\"\"\n",
    "        pass\n",
    "    \n",
    "    @abstractmethod\n",
    "    def enqueue(self, *args, **kwargs):\n",
    "        \"\"\"Метод для добавления элемента в очередь\"\"\"\n",
    "        pass"
   ]
  },
  {
   "cell_type": "code",
   "execution_count": 525,
   "metadata": {},
   "outputs": [],
   "source": [
    "class MyQueue(Queue):\n",
    "    def __init__(self, capacity: int):\n",
    "        self._capacity = capacity\n",
    "        self.q = [None] * capacity\n",
    "        self.front = self.rear = 0\n",
    "        \n",
    "    def __str__(self):\n",
    "        \"\"\"Будем выводить в таком формате\"\"\"\n",
    "        return \"Очередь: \" + \", \".join([el if el is not None else \"*\" for el in self.q])\n",
    "        \n",
    "    @property\n",
    "    def capacity(self):\n",
    "        return self._capacity\n",
    "    \n",
    "    def is_full(self):\n",
    "        \"\"\"Проверка на запоненность очереди\"\"\"\n",
    "        return self.rear == self.capacity\n",
    "    \n",
    "    def is_empty(self):\n",
    "        \"\"\"Проверка на пустоту очереди, и ее ресет при отсутствии элемнтов\"\"\"\n",
    "        if all(el is None for el in self.q):\n",
    "            self.__init__(capacity=self.capacity)\n",
    "            return True\n",
    "        return False\n",
    "    \n",
    "    def enqueue(self):\n",
    "        element = fake.name()\n",
    "        if self.is_full():\n",
    "            print(f'{element}: А для чего тут вторая касса?')\n",
    "        else:\n",
    "            self.q[self.rear] = element\n",
    "            self.rear += 1\n",
    "            print(f'{element} встает в очередь')\n",
    "            print(self)\n",
    "            \n",
    "    def dequeue(self):\n",
    "        if self.is_empty():\n",
    "            print('Очередь пуста')\n",
    "        else:\n",
    "            element = self.q[self.front]\n",
    "            self.q[self.front] = None\n",
    "            self.front += 1\n",
    "            print(self)\n"
   ]
  },
  {
   "cell_type": "code",
   "execution_count": 526,
   "metadata": {},
   "outputs": [
    {
     "name": "stdout",
     "output_type": "stream",
     "text": [
      "Очередь: *, *, *, *, *\n"
     ]
    }
   ],
   "source": [
    "q = MyQueue(capacity=5)\n",
    "print(q)"
   ]
  },
  {
   "cell_type": "code",
   "execution_count": 532,
   "metadata": {},
   "outputs": [
    {
     "name": "stdout",
     "output_type": "stream",
     "text": [
      "Будимир Адамович Карпов: А для чего тут вторая касса?\n"
     ]
    }
   ],
   "source": [
    "q.enqueue()"
   ]
  },
  {
   "cell_type": "code",
   "execution_count": 538,
   "metadata": {},
   "outputs": [
    {
     "name": "stdout",
     "output_type": "stream",
     "text": [
      "Очередь пуста\n"
     ]
    }
   ],
   "source": [
    "q.dequeue()"
   ]
  },
  {
   "cell_type": "markdown",
   "metadata": {},
   "source": [
    "<hr size=\"5\";/>"
   ]
  },
  {
   "cell_type": "markdown",
   "metadata": {},
   "source": [
    "<h1>Deque</h1>"
   ]
  },
  {
   "cell_type": "code",
   "execution_count": 539,
   "metadata": {},
   "outputs": [],
   "source": [
    "class Deque(Queue, ABC):\n",
    "    @abstractmethod\n",
    "    def enqueue_to_front(self):\n",
    "        \"\"\"Добавление в начало очереди\"\"\"\n",
    "        pass\n",
    "    \n",
    "    @abstractmethod\n",
    "    def dequeue_from_rear(self):\n",
    "        \"\"\"Исключение из конца очереди\"\"\""
   ]
  },
  {
   "cell_type": "code",
   "execution_count": 540,
   "metadata": {},
   "outputs": [],
   "source": [
    "class MyDeque(MyQueue, Deque):\n",
    "    def __init__(self, capacity):\n",
    "        self.q = []\n",
    "        self._capacity = capacity\n",
    "        \n",
    "    def is_full(self):\n",
    "        return self.capacity == len(self.q)\n",
    "    \n",
    "    def is_empty(self):\n",
    "        return not self.q\n",
    "    \n",
    "    @property\n",
    "    def capacity(self):\n",
    "        return self._capacity\n",
    "    \n",
    "    def enqueue(self):\n",
    "        if self.is_full():\n",
    "            print('Очередь переполнена')\n",
    "        else:\n",
    "            element = fake.name()\n",
    "            self.q.append(element)\n",
    "            print(self)\n",
    "    \n",
    "    def dequeue(self):\n",
    "        if self.is_empty():\n",
    "            print('Очередь пуста')\n",
    "        else:\n",
    "            self.q.pop(0)\n",
    "            print(self)\n",
    "        \n",
    "    def enqueue_to_front(self):\n",
    "        \"\"\"Добавление в начало очереди\"\"\"\n",
    "        if self.is_full():\n",
    "            print('Очередь переполнена')\n",
    "        else:\n",
    "            element = fake.name()\n",
    "            self.q.insert(0, element)\n",
    "            print(self)\n",
    "\n",
    "    \n",
    "    def dequeue_from_rear(self):\n",
    "        \"\"\"Исключение из конца очереди\"\"\"\n",
    "        if self.is_empty():\n",
    "            print('Очередь пуста')\n",
    "        else:\n",
    "            self.q.pop()\n",
    "            print(self)\n"
   ]
  },
  {
   "cell_type": "code",
   "execution_count": 541,
   "metadata": {},
   "outputs": [],
   "source": [
    "dq = MyDeque(capacity=5)\n"
   ]
  },
  {
   "cell_type": "code",
   "execution_count": 545,
   "metadata": {},
   "outputs": [
    {
     "name": "stdout",
     "output_type": "stream",
     "text": [
      "Очередь: Наина Яковлевна Пономарева, Клавдия Юльевна Рыбакова, Суханов Карл Марсович, Евгений Евсеевич Блохин\n"
     ]
    }
   ],
   "source": [
    "dq.enqueue()"
   ]
  },
  {
   "cell_type": "code",
   "execution_count": 550,
   "metadata": {},
   "outputs": [
    {
     "name": "stdout",
     "output_type": "stream",
     "text": [
      "Очередь пуста\n"
     ]
    }
   ],
   "source": [
    "dq.dequeue_from_rear()"
   ]
  },
  {
   "cell_type": "markdown",
   "metadata": {},
   "source": [
    "<hr>\n",
    "<h1>CIRCULAR QUEUE</h1>"
   ]
  },
  {
   "cell_type": "code",
   "execution_count": 519,
   "metadata": {},
   "outputs": [],
   "source": [
    "@dataclass\n",
    "class LinkedListElement:\n",
    "    parent: Any = None\n",
    "    value: int = None\n",
    "    child: Any = None\n",
    "\n",
    "class CircularQueue(Queue):\n",
    "    def __init__(self, capacity):\n",
    "        self.cap = capacity\n",
    "        self.root = None\n",
    "        self.rear = None\n",
    "        \n",
    "    def __str__(self):\n",
    "        if self.is_empty():\n",
    "            return \"None\"\n",
    "        elif self.rear is None:\n",
    "            return self.root.value + '-->'\n",
    "        else:\n",
    "            q = self.rear\n",
    "            seq = []\n",
    "            while q.parent is not None:\n",
    "                seq.append(q.value)\n",
    "                q = q.parent\n",
    "            else:\n",
    "                seq.append(q.value)\n",
    "\n",
    "            return \"-->\".join(seq) + '-->'\n",
    "    \n",
    "    def is_empty(self):\n",
    "        return self.root is None\n",
    "    \n",
    "    @property\n",
    "    def capacity(self):\n",
    "        return self.cap\n",
    "    \n",
    "    def enqueue(self):\n",
    "        el = fake.name()\n",
    "        if self.is_empty():\n",
    "            self.root = LinkedListElement(value=el)\n",
    "        elif self.rear is None:\n",
    "            self.rear = LinkedListElement(parent=self.root, value=el)\n",
    "        else:    \n",
    "            self.rear.child = LinkedListElement(parent=self.rear ,value=el)\n",
    "            self.rear = self.rear.child\n",
    "        print(self)\n",
    "        \n",
    "    def dequeue(self):\n",
    "        pass"
   ]
  },
  {
   "cell_type": "code",
   "execution_count": 520,
   "metadata": {},
   "outputs": [],
   "source": [
    "cq = CircularQueue(capacity=5)"
   ]
  },
  {
   "cell_type": "code",
   "execution_count": 521,
   "metadata": {},
   "outputs": [
    {
     "data": {
      "text/plain": [
       "(None, None)"
      ]
     },
     "execution_count": 521,
     "metadata": {},
     "output_type": "execute_result"
    }
   ],
   "source": [
    "cq.root, cq.rear"
   ]
  },
  {
   "cell_type": "code",
   "execution_count": 522,
   "metadata": {},
   "outputs": [
    {
     "name": "stdout",
     "output_type": "stream",
     "text": [
      "Калинина Василиса Афанасьевна-->\n"
     ]
    }
   ],
   "source": [
    "cq.enqueue()"
   ]
  },
  {
   "cell_type": "code",
   "execution_count": 523,
   "metadata": {},
   "outputs": [],
   "source": [
    "cq.dequeue()"
   ]
  },
  {
   "cell_type": "markdown",
   "metadata": {},
   "source": [
    "<hr size=\"5\";/>"
   ]
  },
  {
   "cell_type": "markdown",
   "metadata": {},
   "source": [
    "<h1>Для досуга</h1>"
   ]
  },
  {
   "cell_type": "markdown",
   "metadata": {},
   "source": [
    "<p>Создайте очередь на основе связанного списка</p>"
   ]
  },
  {
   "cell_type": "code",
   "execution_count": null,
   "metadata": {},
   "outputs": [],
   "source": [
    "class LinkedListQueue(Queue):\n",
    "    pass"
   ]
  },
  {
   "cell_type": "markdown",
   "metadata": {},
   "source": [
    "<hr/>"
   ]
  },
  {
   "cell_type": "markdown",
   "metadata": {},
   "source": [
    "Создайте проверку на палиндром с исполльзованием дека. Палиндром - слово или фраза, читающаяся слева направо и справа налево одинаково\n",
    "\n",
    "Пример: течет"
   ]
  },
  {
   "cell_type": "code",
   "execution_count": null,
   "metadata": {},
   "outputs": [],
   "source": [
    "def is_palindrome(*args, **kwargs):\n",
    "    pass"
   ]
  },
  {
   "cell_type": "markdown",
   "metadata": {},
   "source": [
    "<hr/>"
   ]
  },
  {
   "cell_type": "markdown",
   "metadata": {},
   "source": [
    "Дописать метод dequeue для циклической очереди"
   ]
  },
  {
   "cell_type": "code",
   "execution_count": 484,
   "metadata": {},
   "outputs": [],
   "source": [
    "class CircularQueueWithDequeue(CircularQueue):\n",
    "    def __init__(self, capacity):\n",
    "        super(CircularQueueWithDequeue, self).__init__(self, capacity)\n",
    "        \n",
    "    def dequeue(self, *args, **kwargs):\n",
    "        pass"
   ]
  },
  {
   "cell_type": "markdown",
   "metadata": {},
   "source": [
    "<hr/>"
   ]
  },
  {
   "cell_type": "markdown",
   "metadata": {},
   "source": [
    "Реализуйте кучу"
   ]
  },
  {
   "cell_type": "code",
   "execution_count": 524,
   "metadata": {},
   "outputs": [],
   "source": [
    "class Heap(ABC):\n",
    "    @abstractmethod\n",
    "    def insert(self, *args, **kwargs):\n",
    "        pass\n",
    "    \n",
    "    @abstractmethod\n",
    "    def delete(self, *args, **kwargs):\n",
    "        pass\n",
    "    \n",
    "    @abstractmethod\n",
    "    def heapify(self, *args, **kwargs):\n",
    "        pass"
   ]
  }
 ],
 "metadata": {
  "kernelspec": {
   "display_name": "Python 3",
   "language": "python",
   "name": "python3"
  },
  "language_info": {
   "codemirror_mode": {
    "name": "ipython",
    "version": 3
   },
   "file_extension": ".py",
   "mimetype": "text/x-python",
   "name": "python",
   "nbconvert_exporter": "python",
   "pygments_lexer": "ipython3",
   "version": "3.8.5"
  }
 },
 "nbformat": 4,
 "nbformat_minor": 4
}
