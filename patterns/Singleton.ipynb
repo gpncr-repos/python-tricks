{
 "cells": [
  {
   "cell_type": "markdown",
   "id": "0a1d2474",
   "metadata": {},
   "source": [
    "### Один вариант реализации"
   ]
  },
  {
   "cell_type": "code",
   "execution_count": 5,
   "id": "c4701be2",
   "metadata": {},
   "outputs": [],
   "source": [
    "def singleton(cls):    \n",
    "    instance = [None]\n",
    "    def wrapper(*args, **kwargs):\n",
    "        if instance[0] is None:\n",
    "            instance[0] = cls(*args, **kwargs)\n",
    "        return instance[0]\n",
    "\n",
    "    return wrapper"
   ]
  },
  {
   "cell_type": "code",
   "execution_count": 6,
   "id": "915a686b",
   "metadata": {},
   "outputs": [
    {
     "name": "stdout",
     "output_type": "stream",
     "text": [
      "Created!\n",
      "2\n",
      "3\n"
     ]
    }
   ],
   "source": [
    "@singleton\n",
    "class SomeSingletonClass:\n",
    "    x = 2\n",
    "    def __init__(self):\n",
    "        print(\"Created!\")\n",
    "\n",
    "instance = SomeSingletonClass()  # prints: Created!\n",
    "instance = SomeSingletonClass()  # doesn't print anything\n",
    "print(instance.x)                # 2\n",
    "\n",
    "instance.x = 3\n",
    "print(SomeSingletonClass().x)    # 3"
   ]
  },
  {
   "cell_type": "markdown",
   "id": "cd2df5c7",
   "metadata": {},
   "source": [
    "### Другой вариант реализации"
   ]
  },
  {
   "cell_type": "code",
   "execution_count": 6,
   "id": "231b025d",
   "metadata": {},
   "outputs": [
    {
     "name": "stdout",
     "output_type": "stream",
     "text": [
      "Object created <__main__.Singleton object at 0x0000014FCC16E7C0>\n",
      "Object created <__main__.Singleton object at 0x0000014FCC16E7C0>\n",
      "True\n"
     ]
    }
   ],
   "source": [
    "class Singleton(object):\n",
    "    def __new__(cls):\n",
    "        if not hasattr(cls, 'instance'):\n",
    "            cls.instance = super(Singleton, cls).__new__(cls)\n",
    "        return cls.instance\n",
    "s = Singleton()\n",
    "print(\"Object created\", s)\n",
    "s1 = Singleton()\n",
    "print(\"Object created\", s1)\n",
    "\n",
    "print(s == s1)"
   ]
  },
  {
   "cell_type": "markdown",
   "id": "b5288403",
   "metadata": {},
   "source": [
    "### Пример применения"
   ]
  },
  {
   "cell_type": "code",
   "execution_count": 7,
   "id": "3b26a1ba",
   "metadata": {},
   "outputs": [],
   "source": [
    "from abc import ABC, abstractmethod\n",
    "class SingletonMeta(type):\n",
    "\n",
    "    \"\"\"Метакласс для класса Parser\"\"\"\n",
    "\n",
    "    _instances = {}\n",
    "\n",
    " \n",
    "    def __call__(cls, *args, **kwargs):\n",
    "\n",
    "        \"\"\"\n",
    "\n",
    "        При инициализации класса Parser в словарь _instances заносится ключ с названием файла, который парсится, и\n",
    "\n",
    "        значение с объектом парсера. При попытке иницилизировать новый объект Parser для уже рапрасенного файла вместо\n",
    "\n",
    "        создания нового объекта вернется уже существующий объект\n",
    "\n",
    "        :return: объект класса-наследника\n",
    "\n",
    "        \"\"\"\n",
    "\n",
    "        file_path = Path(kwargs['file']['path'])\n",
    "\n",
    "        file_name = file_path.name\n",
    "\n",
    " \n",
    "        if file_name not in cls._instances:\n",
    "\n",
    "            instance = super().__call__(*args, **kwargs)\n",
    "\n",
    "            cls._instances[file_name] = instance\n",
    "\n",
    " \n",
    "        return cls._instances[file_name]\n",
    "\n",
    "class ParserInterface(ABC):\n",
    "\n",
    "    __metaclass__ = SingletonMeta\n",
    " \n",
    "\n",
    "    @abstractmethod\n",
    "\n",
    "    def calculate(self, *args, **kwargs):\n",
    "\n",
    "        \"\"\"Метод для расчета расхода газа в случае свода VLP для газлифта и мощности на СУ для скважины, оборудованной\n",
    "\n",
    "        УЭЦН\"\"\"\n",
    "\n",
    " \n",
    "    @abstractmethod\n",
    "\n",
    "    def well_properties(self, *args, **kwargs) -> dict:\n",
    "\n",
    "        \"\"\"Метод для получения данных до VLP таблицы (PVT,Режим и тд)\"\"\"\n",
    "\n",
    "        pass\n",
    "\n",
    "\n",
    "    @abstractmethod\n",
    "\n",
    "    def get_vlp(self, *args, **kwargs):\n",
    "\n",
    "        \"\"\"Метод, возвращающий vlp таблицу\"\"\""
   ]
  },
  {
   "cell_type": "code",
   "execution_count": 13,
   "id": "cc5eaf46",
   "metadata": {},
   "outputs": [],
   "source": [
    "import numpy as np\n",
    "import pandas as pd\n",
    "\n",
    "class TRParser(ParserInterface):\n",
    "\n",
    "    def __init__(self, file: dict, vlp_parser_obj):\n",
    "\n",
    "        \"\"\"\n",
    "        :param file: словарь {\n",
    "            'path': путь к файлу,\n",
    "            'sheet': имя листа\n",
    "        }\n",
    "\n",
    "        :param vlp_parser_obj: объект одного из классов Parser или ParserESP\n",
    "        \"\"\"\n",
    "        self.vlp_parser = vlp_parser_obj\n",
    "        self.__raw_sheet = pd.read_excel(io=file['path'], sheet_name=file['sheet'], engine='openpyxl')\n",
    "        self.__raw_sheet.dropna(axis=1, how='all', inplace=True)\n",
    "        self.__raw_sheet.dropna(how='all', inplace=True)\n",
    "         # индекс заголовков\n",
    "        header_i = 0\n",
    "        while pd.isnull(self.__raw_sheet.iloc[header_i, 0]):\n",
    "\n",
    "            header_i += 1\n",
    "        self.__raw_sheet = pd.read_excel(io=file['path'], sheet_name=file['sheet'], header=header_i + 2,\n",
    "                                         engine='openpyxl')\n",
    "        self.__raw_sheet.dropna(axis=1, how='all', inplace=True)\n",
    "        self.__raw_sheet.dropna(how='all', inplace=True)\n",
    "        self.__raw_sheet.columns = [col.replace('\\n', ' ').replace('-', '') for col in self.__raw_sheet.columns]\n",
    "        self.wells_list = self.__raw_sheet['№ скв'].dropna().values\n",
    "        self.__cols = self.__raw_sheet.columns.tolist()\n",
    "        for i in range(1, len(self.__cols) - 1):\n",
    "            if 'Unnamed:' in self.__cols[i]:\n",
    "                self.__cols[i] = self.__cols[i - 1]\n",
    "\n",
    "        # формирование заголовка таблицы\n",
    "        raw_headers = self.__raw_sheet.iloc[0: 3, :]\n",
    "        self.__sub_header = raw_headers.iloc[0, :]\n",
    "        self.__sub_header = self.__sub_header.fillna(raw_headers.iloc[1, :])\n",
    "        self.__sub_header = pd.Series(\n",
    "            data=[col.replace('\\n', ' ').replace('- ', '').replace('-', '') if isinstance(col, str)\n",
    "                  else col for col in self.__sub_header.values], index=self.__raw_sheet.columns\n",
    "        )\n",
    "\n",
    " \n",
    "    def calculate(self, pwf: Union[np.ndarray, list, tuple], rates: Union[np.ndarray, list, tuple],\n",
    "                  name: str, plin: float = None) -> np.ndarray:\n",
    "        \"\"\"\n",
    "        Метод рассчитывает энергозатраты(расход газа, частота вращения) на обеспечение режима (забойное давление,\n",
    "        дебит)\n",
    "        :param plin: значение линейного давления, атм\n",
    "        :param name: имя скважины / id насоса (в зависимости от подаваемой таблицы)\n",
    "        :param pwf: массив значений забойного давления, соотвествующих значениям дебита, атм\n",
    "        :param rates: массив значений забойного давления, соотвествующих значениям дебита, атм\n",
    "        :return: массив значений расхода газа/частоты вращения\n",
    "        \"\"\"\n",
    "        return self.vlp_parser.calculate(pwf, rates, name, plin)\n",
    "\n",
    "    def get_vlp(self, well_name: str, pressure: float = None) -> pd.DataFrame:\n",
    "\n",
    "        \"\"\"\n",
    "        Возвращает таблицу с значениями искомого параметра\n",
    "        :param pressure: значение линейного давления для таблиц ТР\n",
    "        :param well_name: название искомого объекта (id насоса, номер скважины)\n",
    "        :return: таблица с значениями искомого параметра\n",
    "        \"\"\"\n",
    "        return self.vlp_parser.get_vlp(well_name, pressure)\n",
    " \n",
    "    def get_well_index(self, well_num: str) -> int:\n",
    "        \"\"\"\n",
    "         Метод возвращает порядковый номер строки искомой скважины в датафрейме техрежима\n",
    "        :param well_num: номер скважины (столбец \"№ скв\")\n",
    "        :return: порядковый номер строки искомой скважины\n",
    "        \"\"\"\n",
    "        idx = self.__raw_sheet['№ скв'][self.__raw_sheet['№ скв'] == well_num].index\n",
    "        if idx.any():\n",
    "            return idx\n",
    "        raise ValueError(f'Скважина \"{well_num}\" не найдена')"
   ]
  }
 ],
 "metadata": {
  "kernelspec": {
   "display_name": "Python 3 (ipykernel)",
   "language": "python",
   "name": "python3"
  },
  "language_info": {
   "codemirror_mode": {
    "name": "ipython",
    "version": 3
   },
   "file_extension": ".py",
   "mimetype": "text/x-python",
   "name": "python",
   "nbconvert_exporter": "python",
   "pygments_lexer": "ipython3",
   "version": "3.9.7"
  }
 },
 "nbformat": 4,
 "nbformat_minor": 5
}
