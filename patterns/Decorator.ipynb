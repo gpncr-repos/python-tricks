{
 "cells": [
  {
   "cell_type": "markdown",
   "metadata": {},
   "source": [
    "## Декораторы\n",
    "\n",
    "**Декоратор** - это функция, которая позволяет обернуть другую функцию для расширения её функциональности без непосредственного изменения её кода. \n",
    "\n",
    "#### Особенности декораторов:\n",
    "* И в сам декоратор, и в функцию-обёртку можно передать и позиционные, и именованные аргументы — args и kwargs соответственно.\n",
    "* Декораторы работают не только с функциями, но и с классами и методами.  \n"
   ]
  },
  {
   "cell_type": "code",
   "execution_count": null,
   "metadata": {},
   "outputs": [],
   "source": [
    "# Пример без декоратора\n",
    "from datetime import datetime\n",
    "\n",
    "def first_list(n):\n",
    "    start = datetime.now()\n",
    "    list_1 = []\n",
    "    for i in range(n):\n",
    "        if i % 2 == 0:\n",
    "            list_1.append(i)\n",
    "    # Выводим время расчета\n",
    "    print(\"время расчета:\", datetime.now() - start)\n",
    "    return list_1\n",
    "\n",
    "def second_list(n):\n",
    "    start = datetime.now()\n",
    "    list_2 = [i for i in range(n) if i % 2 == 0]\n",
    "    # Выводим время расчета\n",
    "    print(\"время расчета:\", datetime.now() - start)\n",
    "    return list_2\n",
    "\n",
    "n = 10 ** 7\n",
    "list1 = first_list(n)\n",
    "list2 = second_list(n)\n"
   ]
  },
  {
   "cell_type": "code",
   "execution_count": null,
   "metadata": {},
   "outputs": [],
   "source": [
    "# Создаем декоратор, который будет выводить время выполнения декорируемой функции \n",
    "def decorator_culc_time(func):\n",
    "    def wrapper(*args, **kwargs):\n",
    "        start = datetime.now()\n",
    "        result = func(*args, **kwargs)\n",
    "        # Выводим время расчета\n",
    "        print(\"время расчета:\", datetime.now() - start)\n",
    "        return result\n",
    "    return wrapper\n",
    "\n",
    "@decorator_culc_time\n",
    "def first_list(n):\n",
    "    list_1 = []\n",
    "    for i in range(n):\n",
    "        if i % 2 == 0:\n",
    "            list_1.append(i)\n",
    "    return list_1\n",
    "\n",
    "@decorator_culc_time\n",
    "def second_list(n):\n",
    "    list_2 = [i for i in range(n) if i % 2 == 0]\n",
    "    return list_2\n",
    "\n",
    "n = 10 ** 7\n",
    "list1 = first_list(n)\n",
    "list2 = second_list(n)"
   ]
  },
  {
   "cell_type": "code",
   "execution_count": null,
   "metadata": {},
   "outputs": [],
   "source": [
    "# Логирование при помощи декоратора\n",
    "import logging\n",
    "from datetime import datetime\n",
    "\n",
    "def logging_decorator(func):\n",
    "    def wrapper(*argv, **kwargv):\n",
    "        start = datetime.now()\n",
    "        result = func(*argv, **kwargv)\n",
    "        logging.basicConfig(format=\"%(asctime)s-%(message)s\",\n",
    "                            filename='C:/Users/Сергей/Desktop/Папка для логов/my_log.log', level=logging.INFO)\n",
    "        logging.info(f\"Запущена функция {func}, времемени затрачено на выполнение {datetime.now() - start}\")\n",
    "        return result\n",
    "    return wrapper\n",
    "\n",
    "@logging_decorator\n",
    "def function_1():\n",
    "    list_1 = []\n",
    "    for i in range(10*5):\n",
    "        if i % 2 == 0:\n",
    "            list_1.append(i)\n",
    "    return list_1\n",
    "\n",
    "@logging_decorator \n",
    "def function_2():\n",
    "    list_2 = []\n",
    "    for i in range(10**6):\n",
    "        if i % 2 == 0:\n",
    "            list_2.append(i)\n",
    "    return list_2\n",
    "\n",
    "@logging_decorator \n",
    "def function_3():\n",
    "    list_3 = []\n",
    "    for i in range(10**7):\n",
    "        if i % 2 == 0:\n",
    "            list_3.append(i)\n",
    "    return list_3\n",
    "\n",
    "list1 = function_1()\n",
    "list2 = function_2()\n",
    "list3 = function_3()"
   ]
  },
  {
   "cell_type": "code",
   "execution_count": 1,
   "metadata": {},
   "outputs": [
    {
     "name": "stdout",
     "output_type": "stream",
     "text": [
      "Верхняя булочка\n",
      "##помидор##\n",
      "**котлета**\n",
      "~~салат~~\n",
      "Нижняя булочка\n"
     ]
    }
   ],
   "source": [
    "# Последовательность нескольких декораторов \n",
    "# на примере сэндвича, который состоит из помидора, котлеты и салата - и все это между двух булочек\n",
    "def bread(func):\n",
    "    def wrapper():\n",
    "        print(\"Верхняя булочка\")\n",
    "        func()\n",
    "        print(\"Нижняя булочка\")\n",
    "    return wrapper\n",
    "\n",
    "def ingredients(func):\n",
    "    def wrapper():\n",
    "        print(\"##помидор##\")\n",
    "        func()\n",
    "        print(\"~~салат~~\")\n",
    "    return wrapper\n",
    "\n",
    "@bread\n",
    "@ingredients\n",
    "def sandwich():\n",
    "    print(\"**котлета**\")\n",
    "\n",
    "# Создаем сэндвич\n",
    "sandwich()"
   ]
  },
  {
   "cell_type": "code",
   "execution_count": 2,
   "metadata": {},
   "outputs": [
    {
     "name": "stdout",
     "output_type": "stream",
     "text": [
      "Верхняя булочка c Чесночный соус и Кунжут\n",
      "##помидор##\n",
      "**котлета**\n",
      "~~салат~~\n",
      "Нижняя булочка\n"
     ]
    }
   ],
   "source": [
    "# Декоратор с аргументами на примере всё того же сэндвича, но уже с добавлением соуса и кунжута\n",
    "\n",
    "def bread(arg_1, arg_2):\n",
    "    def decor_bread(func):\n",
    "        def wrapper():\n",
    "            print(f\"Верхняя булочка c {arg_1} и {arg_2}\")\n",
    "            func()\n",
    "            print(\"Нижняя булочка\")\n",
    "        return wrapper\n",
    "    return decor_bread\n",
    "\n",
    "def ingredients(func):\n",
    "    def wrapper():\n",
    "        print(\"##помидор##\")\n",
    "        func()\n",
    "        print(\"~~салат~~\")\n",
    "    return wrapper\n",
    "\n",
    "@bread(\"Чесночный соус\", \"Кунжут\")\n",
    "@ingredients\n",
    "def sandwich():\n",
    "    print(\"**котлета**\")\n",
    "\n",
    "# Создаем сэндвич\n",
    "sandwich()"
   ]
  },
  {
   "cell_type": "code",
   "execution_count": null,
   "metadata": {},
   "outputs": [],
   "source": []
  }
 ],
 "metadata": {
  "kernelspec": {
   "display_name": "Python 3 (ipykernel)",
   "language": "python",
   "name": "python3"
  },
  "language_info": {
   "codemirror_mode": {
    "name": "ipython",
    "version": 3
   },
   "file_extension": ".py",
   "mimetype": "text/x-python",
   "name": "python",
   "nbconvert_exporter": "python",
   "pygments_lexer": "ipython3",
   "version": "3.9.7"
  }
 },
 "nbformat": 4,
 "nbformat_minor": 4
}
