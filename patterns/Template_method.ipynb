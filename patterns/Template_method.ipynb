{
 "cells": [
  {
   "cell_type": "markdown",
   "metadata": {},
   "source": [
    "## Шаблонный метод (Template method)\n",
    "\n",
    "**Шаблонный метод** - это поведенческий паттерн проектирования, который определяет скелет алгоритма, перекладывая ответственность за некоторые его шаги на подклассы. Паттерн позволяет подклассам переопределять шаги алгоритма, не меняя его общей структуры. \n",
    "#### Применимость:\n",
    "* Когда подклассы должны расширять базовый алгоритм, не меняя его структуры.\n",
    "* Когда у вас есть несколько классов, делающих одно и то же с незначительными отличиями. Если вы редактируете один класс, то приходится вносить такие же правки и в остальные классы.  \n",
    "\n",
    "#### Достоинства метода:\n",
    "* Локализация и вычленение общего для нескольких классов кода для избегания дублирования.  \n",
    "\n",
    "#### Недостатки метода:\n",
    "* Жесткая ограниченность существующим скелетом.\n",
    "* Сложно поддерживать с ростом количества шагов.\n",
    "\n",
    "Ниже представлена реализация метода на примере расчета скважины (расчет угла наклона ствола и забойного давления). Угол рассчитывается для всех типов скважины одинаково, расчет же забойного давления определяется конкретным способом эксплуатации."
   ]
  },
  {
   "cell_type": "code",
   "execution_count": 1,
   "metadata": {},
   "outputs": [],
   "source": [
    "from abc import ABC, abstractmethod\n",
    "import math\n",
    "\n",
    "class Well(ABC):\n",
    "    \"\"\"\n",
    "    Асбтрактный класс - некая скважина\n",
    "    \"\"\"\n",
    "\n",
    "    def __init__(self, md, tvd, wh_pressure, q_liq, gas_inj=None):\n",
    "        self.md = md\n",
    "        self.tvd = tvd\n",
    "        self.wh_pressure = wh_pressure\n",
    "        self.q_liq = q_liq\n",
    "        self.gas_inj = gas_inj\n",
    "        self.angle = None\n",
    "\n",
    "    def calc_well(self):\n",
    "        \"\"\"\n",
    "        Шаблонный метод.\n",
    "        Скелет расчетного алгоритма\n",
    "        \"\"\"\n",
    "        print(\"Запущен расчет скважины\")\n",
    "        self._calc_inclinometry()\n",
    "        self.calc_bh_pressure()\n",
    "\n",
    "    def _calc_inclinometry(self):\n",
    "        \"\"\"\n",
    "        Расчет вертикального угла скважины.\n",
    "        Обязательный шаг с реализацией по умолчанию\n",
    "        \"\"\"\n",
    "        if self.md == self.tvd:\n",
    "            angle = 0\n",
    "        else:\n",
    "            angle = math.degrees(math.acos(self.tvd / self.md))\n",
    "        print(f\"Угол наклона скважины равен {angle}\")\n",
    "\n",
    "    @abstractmethod\n",
    "    def calc_bh_pressure(self):\n",
    "        \"\"\"\n",
    "        Расчет забойного давления.\n",
    "        Обязательный шаг с переопределением метода в зависимости от конкретного подкласса\n",
    "        \"\"\"\n",
    "        pass\n",
    "\n",
    "\n",
    "class Esp(Well):\n",
    "    \"\"\"Конкретный класс - скважина ЭЦН\"\"\"\n",
    "\n",
    "    def calc_bh_pressure(self):\n",
    "        print(\"Скважина оборудована ЭЦН\")\n",
    "        dp_esp = self.q_liq * 0.1\n",
    "        bh_pressure = self.wh_pressure + 9.81 * 0.85 * self.tvd / 100 - dp_esp\n",
    "        print(f\"Перепад давления в насосе {dp_esp} атм\")\n",
    "        print(f\"Забойное давление {bh_pressure} атм\")\n",
    "\n",
    "\n",
    "class Gaslift(Well):\n",
    "    \"\"\"Конкретный класс - газлифтная скважина\"\"\"\n",
    "\n",
    "    def calc_bh_pressure(self):\n",
    "        if self.gas_inj is None or self.gas_inj == 0:\n",
    "            print(\"Скважина оборудована фонтаном\")\n",
    "            bh_pressure = self.wh_pressure + 9.81 * 0.85 * self.tvd / 100\n",
    "        else:\n",
    "            print(\"Скважина оборудована газлифтом\")\n",
    "            bh_pressure = self.wh_pressure + 9.81 * (0.85 / self.gas_inj) * self.tvd / 100\n",
    "        print(f\"Забойное давление {bh_pressure} атм\")\n"
   ]
  },
  {
   "cell_type": "code",
   "execution_count": 2,
   "metadata": {},
   "outputs": [
    {
     "name": "stdout",
     "output_type": "stream",
     "text": [
      "Запущен расчет скважины\n",
      "Угол наклона скважины равен 33.55730976192071\n",
      "Скважина оборудована ЭЦН\n",
      "Перепад давления в насосе 20.0 атм\n",
      "Забойное давление 198.4625 атм\n"
     ]
    }
   ],
   "source": [
    "#Исходные данные\n",
    "md = 3000\n",
    "tvd = 2500\n",
    "wh_pressure = 10\n",
    "q_liq = 200\n",
    "qgas_inj = 2\n",
    "\n",
    "# Расчет ЭЦН\n",
    "calc = Esp(md, tvd, wh_pressure, q_liq)\n",
    "result = calc.calc_well()\n",
    "\n",
    "#Расчет газлифта\n",
    "# calc = Gaslift(md, tvd, wh_pressure, q_liq, qgas_inj)\n",
    "# result = calc.calc_well()"
   ]
  },
  {
   "cell_type": "code",
   "execution_count": null,
   "metadata": {},
   "outputs": [],
   "source": []
  }
 ],
 "metadata": {
  "kernelspec": {
   "display_name": "Python 3 (ipykernel)",
   "language": "python",
   "name": "python3"
  },
  "language_info": {
   "codemirror_mode": {
    "name": "ipython",
    "version": 3
   },
   "file_extension": ".py",
   "mimetype": "text/x-python",
   "name": "python",
   "nbconvert_exporter": "python",
   "pygments_lexer": "ipython3",
   "version": "3.9.7"
  }
 },
 "nbformat": 4,
 "nbformat_minor": 4
}
